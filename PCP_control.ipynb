{
 "cells": [
  {
   "cell_type": "markdown",
   "metadata": {},
   "source": [
    "<div>\n",
    "<a href=\"https://www.audiolabs-erlangen.de/fau/professor/mueller\"><img src=\"data_layout/PCP_Teaser.png\" width=100% style=\"float: right;\" alt=\"PCP Teaser\"></a>\n",
    "</div>"
   ]
  },
  {
   "cell_type": "markdown",
   "metadata": {},
   "source": [
    "# Basic Control Structures and Functions\n",
    "\n",
    "This notebook gives a short introduction for using basic control structures and defining Python functions. \n",
    "\n",
    "<ul>\n",
    "    <li><a href='#control'>Basic Control Structures</a></li>    \n",
    "    <li><a href='#function'>Functions</a></li>  \n",
    "    <li><a href='#runtime'>Efficiency and Runtime</a></li>     \n",
    "    <li><a href='#exercise_give_number'>Exercise 1: Function <code>give_me_a_number</code></a></li>        \n",
    "    <li><a href='#exercise_row_mean'>Exercise 2: Function for Computing Row Mean</code></a></li>\n",
    "    <li><a href='#exercise_odd'>Exercise 3: Function for Computing Odd-Index Vector</a></li>\n",
    "    <li><a href='#exercise_isprime'>Exercise 4: Primality Test</a></li>    \n",
    "    <li><a href='#exercise_root'>Exercise 5: Function for Root Finding</a></li>         \n",
    "</ul>"
   ]
  },
  {
   "cell_type": "markdown",
   "metadata": {},
   "source": [
    "<a id='control'></a>\n",
    "## Basic Control Structures\n",
    "\n",
    "In Python, there are basic control structures similar to most other programming languages. The most important control structures are:\n",
    "<ul>\n",
    "<li> <code>if</code>  conditionally execute statements\n",
    "<li> <code>for</code>  repeat statements a specific number of times\n",
    "<li> <code>while</code>  repeat statements an indefinite number of times\n",
    "<li> <code>break</code>  terminate execution of a <code>while</code>  or <code>for</code>  loop\n",
    "<li> <code>continue</code>  continue execution of a <code>while</code>  or <code>for</code>  loop at top\n",
    "</ul>\n",
    "\n",
    "For control structures such as `if`, `for` or `while`, one has to use indentations (as part of the syntax). A typical Python convention is to use four spaces (or a tab indent). In the following, we give examples for each of these control structures. Let us start with an `if`-statement, which is written as follows:"
   ]
  },
  {
   "cell_type": "code",
   "execution_count": null,
   "metadata": {},
   "outputs": [],
   "source": [
    "n = -2\n",
    "if n < 0:\n",
    "    print('Negative')\n",
    "elif n > 0:\n",
    "    print('Positive')    \n",
    "else:\n",
    "    print('Zero')"
   ]
  },
  {
   "cell_type": "markdown",
   "metadata": {},
   "source": [
    "The next example shows how to use a `for`-loop. Note that an iterable may be specified by a range, a list, a tuple, or even other structures."
   ]
  },
  {
   "cell_type": "code",
   "execution_count": null,
   "metadata": {},
   "outputs": [],
   "source": [
    "for i in range(3):\n",
    "    print(i, end='-')\n",
    "print()\n",
    "    \n",
    "for i in ['a', 2, 'c', 'def']:\n",
    "    print(i, end='-')\n",
    "print()\n",
    "\n",
    "for i in 'example':\n",
    "    print(i, end='-')\n",
    "print()"
   ]
  },
  {
   "cell_type": "markdown",
   "metadata": {},
   "source": [
    "A `while`-loop is written as follows:"
   ]
  },
  {
   "cell_type": "code",
   "execution_count": null,
   "metadata": {},
   "outputs": [],
   "source": [
    "a = 0\n",
    "while a < 5:\n",
    "    print(a, end='-')\n",
    "    a += 1"
   ]
  },
  {
   "cell_type": "markdown",
   "metadata": {},
   "source": [
    "The `break`-statement is used to terminate the loop containing it. This is demonstrated by the following example, which consists of two nested loops each containing a  `break`-statement."
   ]
  },
  {
   "cell_type": "code",
   "execution_count": null,
   "metadata": {},
   "outputs": [],
   "source": [
    "for k in 'abcd':\n",
    "    if k == 'c':\n",
    "        break\n",
    "    for i in '12345':\n",
    "        if i == '4':\n",
    "            break\n",
    "        print(k + i, end='-')"
   ]
  },
  {
   "cell_type": "markdown",
   "metadata": {},
   "source": [
    "The `continue`-statement is used to terminate only the current step of the loop. The loop then continues with the next iteration."
   ]
  },
  {
   "cell_type": "code",
   "execution_count": null,
   "metadata": {},
   "outputs": [],
   "source": [
    "for k in 'abcd':\n",
    "    if k == 'c':\n",
    "        continue\n",
    "    for i in '12345':\n",
    "        if i == '4':\n",
    "            continue\n",
    "        print(k + i, end='-')"
   ]
  },
  {
   "cell_type": "markdown",
   "metadata": {},
   "source": [
    "<a id='function'></a>\n",
    "## Functions\n",
    "\n",
    "One defines functions with the `def`-keyword. As variable names, function names may contain letters (`a`, `b`, ..., `Y`, `Z`) and the underscore (`_`). All but the first character can also be positive integer number. Usually one uses lower case letters and underscores to separate words. The following function is named `add`. It has three arguments `a`, `b`, and `c` (with `b` and `c` having a default value). The `return` keyword is succeeded by the return value."
   ]
  },
  {
   "cell_type": "code",
   "execution_count": null,
   "metadata": {},
   "outputs": [],
   "source": [
    "def add(a, b=0, c=0):\n",
    "    \"\"\"Function to add three numbers\n",
    "    \n",
    "    Notebook: PCP_control.ipynb\n",
    "    \n",
    "    Args:\n",
    "        a: first number\n",
    "        b: second number (default: 0)\n",
    "        c: third number (default: 0)\n",
    "        \n",
    "    Returns:\n",
    "        Sum of a, b and c\n",
    "    \"\"\"\n",
    "    print('Addition: ', a, ' + ', b, ' + ', c)\n",
    "    return a + b + c\n",
    "\n",
    "print(add(5))\n",
    "print(add(5, 2, 1))\n",
    "print(add(5, c=4))"
   ]
  },
  {
   "cell_type": "markdown",
   "metadata": {},
   "source": [
    "There are some rules and differences on how to use arguments without and with defaults values. \n",
    "\n",
    "* All non-default arguments must be specified in the function call.\n",
    "* The order of default arguments may not be changed in the call.\n",
    "* The default arguments are optional in a call. If a value is provided, the default value is overwritten.\n",
    "* A function may have any number of default arguments. However, a default argument may not be followed by a non-default argument. \n",
    "\n",
    "This rules are illustrated by the previous examples. The next examples demonstrates that a function may also have multiple return values (which are returned as a tuple):"
   ]
  },
  {
   "cell_type": "code",
   "execution_count": null,
   "metadata": {},
   "outputs": [],
   "source": [
    "def add_and_diff(a, b=0):\n",
    "    \"\"\"Function to add and subtract two numbers\n",
    "    \n",
    "    Notebook: control.ipynb\n",
    "    \n",
    "    Args:\n",
    "        a: first number\n",
    "        b: second number (default: 0)\n",
    "        \n",
    "    Returns:\n",
    "        first: a + b\n",
    "        second: a - b\n",
    "    \"\"\"\n",
    "    return a + b, a - b\n",
    "\n",
    "x = add_and_diff(3, 5)\n",
    "print('result:', x, type(x))\n",
    "x, y = add_and_diff(3, 5)\n",
    "print('result:', x, y, type(x), type(y))\n",
    "x, y = add_and_diff(3.0, 5)\n",
    "print('result:', x, y, type(x), type(y))"
   ]
  },
  {
   "cell_type": "markdown",
   "metadata": {},
   "source": [
    "It is a important to document a function. In particular, one should always describe the purpose of a function as well as its input and the output. This is exactly what a **docstring** is used for. As described in the [Python Docstring Conventions](https://www.python.org/dev/peps/pep-0257/), a docstring is a string literal that occurs as the first statement in the function. For consistency, it is advised to use  `\"\"\"triple double quotes\"\"\"` around docstrings. Using the `help()` function, the content of the docstring is shown. This is a useful feature when building your own libraries with many functions. In the following code cell, we show the docstring of the function `add` defined above."
   ]
  },
  {
   "cell_type": "code",
   "execution_count": null,
   "metadata": {},
   "outputs": [],
   "source": [
    "help(add)"
   ]
  },
  {
   "cell_type": "markdown",
   "metadata": {},
   "source": [
    "<a id='runtime'></a>  \n",
    "## Efficiency and Runtime\n",
    "\n",
    "In the following example, we consider the task of computing the sum $\\sum_{i=1}^n i$ for a given integer $n\\in\\mathbb{N}$. We first implement a naive function <code>sum_n</code> that uses a simple <code>for</code>-loop. We then execute the function <code>sum_n</code> in a <code>while</code>-loop for increasing $n=1,2,3,...$ and output the result until the sum exceeds $100$.</li>"
   ]
  },
  {
   "cell_type": "code",
   "execution_count": null,
   "metadata": {},
   "outputs": [],
   "source": [
    "def sum_n(n):\n",
    "    \"\"\"Function that sums up the integers from 1 to n\n",
    "    Notebook: PCP_control.ipynb\"\"\"\n",
    "    s = 0\n",
    "    for n in range(1, n+1):\n",
    "        s = s + n\n",
    "    return s\n",
    "\n",
    "n = 1\n",
    "while sum_n(n) <= 100:\n",
    "    print('n= %d, s=%d' % (n, sum_n(n)))\n",
    "    n += 1"
   ]
  },
  {
   "cell_type": "markdown",
   "metadata": {},
   "source": [
    "Rather than using a <code>for</code>-loop, one may think more efficient functions to compute this sum. In the following code cell, we consider the function <code>sum_n_numpy</code> that is based on the efficient NumPy-function <code>np.sum</code>. Furthermore, we consider the function <code>sum_n_math</code> used a closed mathematical formula for calculating the sum. We then measure and compare the execution time for the three different implementations. To this end, we use the Python module [<code>timeit</code>](https://docs.python.org/2/library/timeit.html), which provides a simple way to time small bits of Python code. As an alternative, one may also use the function <code>time.time()</code> of the module [<code>time</code>](https://docs.python.org/3/library/time.html).\n"
   ]
  },
  {
   "cell_type": "code",
   "execution_count": null,
   "metadata": {},
   "outputs": [],
   "source": [
    "import numpy as np\n",
    "\n",
    "def sum_n_numpy(n):\n",
    "    \"\"\"Function that sums up the integers from 1 to n using numpy\n",
    "    Notebook: PCP_control.ipynb\"\"\"  \n",
    "    s = np.sum(np.arange(1, n+1))\n",
    "    return s    \n",
    "\n",
    "def sum_n_math(n):\n",
    "    \"\"\"Function that sums up the integers from 1 to n using the idea by Gauss \n",
    "    Notebook: PCP_control.ipynb\"\"\"    \n",
    "    s = n * (n + 1) // 2\n",
    "    return s   \n",
    "\n",
    "n = 1000\n",
    "print('Computation with sum_n:       n=%d, s=%d' % (n, sum_n(n)))\n",
    "print('Computation with sum_n_numpy: n=%d, s=%d' % (n, sum_n_numpy(n)))\n",
    "print('Computation with sum_n_math:  n=%d, s=%d' % (n, sum_n_math(n)))\n",
    "\n",
    "# Measuring runtime of different implementations \n",
    "import timeit\n",
    "execuctions = 100\n",
    "n = 10000\n",
    "runtime_av = timeit.timeit(lambda: sum_n(n), number=execuctions) / execuctions\n",
    "print('Runtime for sum_n: %.6f ms' % (runtime_av * 1000))\n",
    "\n",
    "runtime_av = timeit.timeit(lambda: sum_n_numpy(n), number=execuctions) / execuctions\n",
    "print('Runtime for sum_n_numpy: %.6f ms' % (runtime_av * 1000))\n",
    "\n",
    "runtime_av = timeit.timeit(lambda: sum_n_math(n), number=execuctions) / execuctions\n",
    "print('Runtime for sum_n_math: %.6f ms' % (runtime_av * 1000))"
   ]
  },
  {
   "cell_type": "markdown",
   "metadata": {},
   "source": [
    "## Exercises and Results"
   ]
  },
  {
   "cell_type": "code",
   "execution_count": null,
   "metadata": {},
   "outputs": [],
   "source": [
    "import LibPCP.control\n",
    "show_result = True"
   ]
  },
  {
   "cell_type": "markdown",
   "metadata": {},
   "source": [
    "<a id='exercise_give_number'></a>\n",
    "<div class=\"alert alert-block alert-info\">\n",
    "<strong>Exercise 1: Function <code>give_me_a_number</code></strong><br>\n",
    "Write a function <code>give_me_a_number</code> that has a string variable <code>s</code> as input argument. When <code>s</code> is the string <code>'large'</code>, the function should return the value $2^{100}$. If <code>s</code> is <code>'small'</code>, it should return $2^{-100}$. If <code>s</code> is <code>'random'</code>, it should return a random number in the range $[0,1)$ (using <code>np.random.rand</code>). In all other cases, the function should return <code>np.nan</code>. As default, set the input argument to the string <code>'nan'</code>.\n",
    "</div>"
   ]
  },
  {
   "cell_type": "code",
   "execution_count": null,
   "metadata": {},
   "outputs": [],
   "source": [
    "#<solution>\n",
    "# Your Solution\n",
    "#</solution>"
   ]
  },
  {
   "cell_type": "code",
   "execution_count": null,
   "metadata": {},
   "outputs": [],
   "source": [
    "LibPCP.control.exercise_give_number(show_result=show_result)"
   ]
  },
  {
   "cell_type": "markdown",
   "metadata": {},
   "source": [
    "<a id='exercise_row_mean'></a>\n",
    "<div class=\"alert alert-block alert-info\">\n",
    "<strong>Exercise 2: Function for Computing Row Mean</strong><br>\n",
    "Write a function <code>row_mean</code> that inputs a matrix and outputs a vector containing the row-wise means (averages) of the input matrix. Apply the function to the matrix matrix $\\mathbf{A} = \\begin{bmatrix}1 & 2 & 6 \\\\5 & 5 & 2\\\\\\end{bmatrix}$.\n",
    "</div>"
   ]
  },
  {
   "cell_type": "code",
   "execution_count": null,
   "metadata": {},
   "outputs": [],
   "source": [
    "#<solution>\n",
    "# Your Solution\n",
    "#</solution>"
   ]
  },
  {
   "cell_type": "code",
   "execution_count": null,
   "metadata": {},
   "outputs": [],
   "source": [
    "LibPCP.control.exercise_row_mean(show_result=show_result)"
   ]
  },
  {
   "cell_type": "markdown",
   "metadata": {},
   "source": [
    "<a id='exercise_odd'></a>\n",
    "<div class=\"alert alert-block alert-info\">\n",
    "<strong>Exercise 3: Function for Computing Odd-Index Vector</strong><br>\n",
    "Given a vector <code>x</code> (in form of a one-dimensional NumPy array), write a function <code>vector_odd_index</code> that outputs a vector <code>y</code> consisting only of the elements of <code>x</code> at an odd index position. If the input NumPy array <code>x</code> is not a vector, the function <code>vector_odd_index</code> should output <code>y=None</code>. <br>\n",
    "<strong>Note:</strong> Recall that Python indexing starts with index <code>0</code> (which is an even index).\n",
    "</div>"
   ]
  },
  {
   "cell_type": "code",
   "execution_count": null,
   "metadata": {},
   "outputs": [],
   "source": [
    "#<solution>\n",
    "# Your Solution\n",
    "#</solution>"
   ]
  },
  {
   "cell_type": "code",
   "execution_count": null,
   "metadata": {},
   "outputs": [],
   "source": [
    "LibPCP.control.exercise_odd(show_result=show_result)"
   ]
  },
  {
   "cell_type": "markdown",
   "metadata": {},
   "source": [
    "<a id='exercise_isprime'></a>\n",
    "<div class=\"alert alert-block alert-info\">\n",
    "<strong>Exercise 4: Primality Test</strong><br>\n",
    "An integer $n\\in\\mathbb{N}$ is called a <strong>prime number</strong> if $n>1$ and if $n$ is divisible only by $1$ and itself. Write a function <code>isprime</code> that inputs an integer <code>n</code> and outputs the boolean value <code>True</code> if <code>n</code> is a prime number and <code>False</code> otherwise. \n",
    "<ul>\n",
    "<li> Test your function for $n=1$, $n=17$, $n=1221$, and $n=1223$.</li> \n",
    "<li> Use this function to output the first $20$ prime numbers. </li> \n",
    "<li> Discuss efficiency issues. Is there a more efficient way to compute the first $20$ prime numbers?</li>\n",
    "<li> Have a look at the algorithm <a href=\"https://en.wikipedia.org/wiki/Sieve_of_Eratosthenes\"><strong>Sieve of Eratosthenes</strong></a>, which is an ancient algorithm for finding all prime numbers up to any given limit.</li>        \n",
    "</ul>      \n",
    "</div>"
   ]
  },
  {
   "cell_type": "code",
   "execution_count": null,
   "metadata": {},
   "outputs": [],
   "source": [
    "#<solution>\n",
    "# Your Solution\n",
    "#</solution>"
   ]
  },
  {
   "cell_type": "code",
   "execution_count": null,
   "metadata": {},
   "outputs": [],
   "source": [
    "LibPCP.control.exercise_isprime(show_result=show_result)"
   ]
  },
  {
   "cell_type": "markdown",
   "metadata": {},
   "source": [
    "<a id='exercise_root'></a>\n",
    "<div class=\"alert alert-block alert-info\">\n",
    "<strong>Exercise 5: Function for Root Finding</strong><br>\n",
    "Let $f:\\mathbb{R}\\to\\mathbb{R}$ be a continuous function and let $a,b\\in\\mathbb{R}$ be two numbers such that $a<b$ and $f(a)$ and $f(b)$ have opposite signs. Then $f$ has a <strong>root</strong> in the interval $[a,b]$. In other words, there is a number $r\\in[a,b]$ such that $f(r)=0$. To find such a root, one can proceed as follows: \n",
    "<ul>\n",
    "<li> Let $c = (a+b)/2$ be the center. If $f(a)=0$, $f(b)=0$, or $f(c)=0$, then we have found a root and we can stop. </li> \n",
    "<li> Otherwise, either $f(a)$ and $f(c)$, or $f(c)$ and $f(b)$ have opposite signs. In the first case, continue with the interval $[a,c]$, otherwise with the interval $[c,b]$.</li> \n",
    "<li> Iterate this interval-halving procedure until the interval size is below a given threshold parameter (e.g., $10^{-5}$) and a sufficient approximation for the root is obtained.</li>\n",
    "</ul>  \n",
    "    \n",
    "Write a function <code>search_root</code> that implements this procedure (also known as <strong>bisection method</strong>). The input arguments should be <code>f</code>, <code>a</code>, <code>b</code>, and <code>thresh</code>. Here, <code>f</code> is a Python function realizing a continuous function $f:\\mathbb{R}\\to\\mathbb{R}$. The parameter <code>thresh</code> is the threshold parameter, which should be set to the value $10^{-5}$ by default. The function <code>search_root</code> should check if <code>a \\< b</code> and if the opposite sign condition for <code>f(a)</code> and <code>f(b)</code> is fulfilled (if not it should return the value <code>np.nan</code>). \n",
    "\n",
    "<ul>\n",
    "<li> Evaluate <code>search_root</code> for <code>f</code> given by $f(x) = x^2-2$, <code>a=0</code>, and <code>b=2</code>. </li> \n",
    "<li> Test <code>search_root</code> for the same function when using <code>a=2</code> and <code>b=4</code>.  </li>  \n",
    "<li> Test <code>search_root</code> for the same function when using <code>a=4</code> and <code>b=2</code>.  </li>    \n",
    "<li> Evaluate <code>search_root</code> for <code>np.sin</code> using <code>a=3</code>, and <code>b=4</code>. </li> \n",
    "</ul>\n",
    "</div>"
   ]
  },
  {
   "cell_type": "code",
   "execution_count": null,
   "metadata": {},
   "outputs": [],
   "source": [
    "#<solution>\n",
    "# Your Solution\n",
    "#</solution>"
   ]
  },
  {
   "cell_type": "code",
   "execution_count": null,
   "metadata": {},
   "outputs": [],
   "source": [
    "LibPCP.control.exercise_root(show_result=show_result)"
   ]
  },
  {
   "cell_type": "markdown",
   "metadata": {},
   "source": [
    "<div class=\"alert alert-block alert-warning\">\n",
    "<strong>Note:</strong> The previous exercise shows that the argument of a Python function can be function itself. In Python, a function is simply an object that can be referred to in the same way one refers to a number, a string, or a list. This is again demonstrated in the next code cell. For further explanations, we refer to the article on \n",
    "<a href=\"https://treyhunner.com/2020/01/passing-functions-as-arguments/\">Passing a function as an argument to another function in Python</a>.  \n",
    "</div>"
   ]
  },
  {
   "cell_type": "markdown",
   "metadata": {},
   "source": [
    "<div>\n",
    "<a href=\"https://opensource.org/licenses/MIT\"><img src=\"data_layout/PCP_License.png\" width=100% style=\"float: right;\" alt=\"PCP License\"></a>\n",
    "</div>"
   ]
  }
 ],
 "metadata": {
  "anaconda-cloud": {},
  "kernelspec": {
   "display_name": "Python 3",
   "language": "python",
   "name": "python3"
  },
  "language_info": {
   "codemirror_mode": {
    "name": "ipython",
    "version": 3
   },
   "file_extension": ".py",
   "mimetype": "text/x-python",
   "name": "python",
   "nbconvert_exporter": "python",
   "pygments_lexer": "ipython3",
   "version": "3.7.9"
  }
 },
 "nbformat": 4,
 "nbformat_minor": 1
}
